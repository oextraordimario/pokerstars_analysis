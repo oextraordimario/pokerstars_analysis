{
  "nbformat": 4,
  "nbformat_minor": 0,
  "metadata": {
    "colab": {
      "provenance": [],
      "toc_visible": true
    },
    "kernelspec": {
      "name": "python3",
      "display_name": "Python 3"
    },
    "language_info": {
      "name": "python"
    }
  },
  "cells": [
    {
      "cell_type": "markdown",
      "source": [
        "# Preparação"
      ],
      "metadata": {
        "id": "wxMf6hG2iQQA"
      }
    },
    {
      "cell_type": "markdown",
      "source": [
        "## Lembretes e imports"
      ],
      "metadata": {
        "id": "5QvJBdI6wMes"
      }
    },
    {
      "cell_type": "code",
      "source": [
        "# Incluir a parte do sumário porque tô vendo que vai dar merda se eu não fizer isso logo\n",
        "# Checar com outras mãos pra encontrar erros e inconsistências\n",
        "# quando a pessoa folda e mostra, eu não tô pegando a(s) carta(s) que ela mostrou. por pura pregs mesmo"
      ],
      "metadata": {
        "id": "EHOrVaD0wRAf"
      },
      "execution_count": null,
      "outputs": []
    },
    {
      "cell_type": "code",
      "execution_count": null,
      "metadata": {
        "id": "liNxpM9GxhfZ"
      },
      "outputs": [],
      "source": [
        "## Imports\n",
        "\n",
        "import re\n",
        "import json\n",
        "import pprint\n",
        "import os\n",
        "import pandas as pd"
      ]
    },
    {
      "cell_type": "markdown",
      "source": [
        "## Variáveis Universais"
      ],
      "metadata": {
        "id": "gkuXm4-kgaJt"
      }
    },
    {
      "cell_type": "code",
      "source": [
        "SOURCE_FOLDER = r\"/content/drive/MyDrive/Poker/hands_backup/\"\n",
        "JSON_FOLDER = r\"/content/drive/MyDrive/Projetos/poker_app/json_files/\"\n",
        "JSON_FOLDER_V2 = r\"/content/drive/MyDrive/Projetos/poker_app/json_files_v2/\" # criei esse pra subir os arquivos no loop completo\n",
        "\n",
        "HOJE = (pd.Timestamp.today() - pd.Timedelta(hours=3)).strftime(\"%Y-%m-%d\")\n",
        "AGORA =(pd.Timestamp.today() - pd.Timedelta(hours=3)).strftime(\"%Y-%m-%d %r\")"
      ],
      "metadata": {
        "id": "nLCtJG5UgdIi"
      },
      "execution_count": null,
      "outputs": []
    },
    {
      "cell_type": "markdown",
      "source": [
        "## Puxar arquivo .txt"
      ],
      "metadata": {
        "id": "u4dX56BmgaSh"
      }
    },
    {
      "cell_type": "code",
      "source": [
        "all_raw_files_list = os.listdir(SOURCE_FOLDER)\n",
        "\n",
        "ms_sng_files = [] # microstakes sit n go\n",
        "\n",
        "for file in all_raw_files_list:\n",
        "  if \"$0.44\" in file or \"$0.88\" in file:\n",
        "    ms_sng_files.append(file)\n",
        "\n",
        "#pprint.pprint(ms_sng_files, sort_dicts=False)"
      ],
      "metadata": {
        "id": "C2nJhayRWgzU"
      },
      "execution_count": null,
      "outputs": []
    },
    {
      "cell_type": "code",
      "source": [
        "filename_checker = pd.DataFrame({'filename': pd.Series(ms_sng_files)})\n",
        "\n",
        "filename_checker.query(\"filename.str.contains('3684678181')\")"
      ],
      "metadata": {
        "colab": {
          "base_uri": "https://localhost:8080/",
          "height": 81
        },
        "id": "avTLTn_7skL5",
        "outputId": "2c0bbb79-b847-43af-c1d6-91a9c8624a69"
      },
      "execution_count": null,
      "outputs": [
        {
          "output_type": "execute_result",
          "data": {
            "text/plain": [
              "                                             filename\n",
              "87  HH20231210 T3684678181 No Limit Hold'em $0.88 ..."
            ],
            "text/html": [
              "\n",
              "  <div id=\"df-0ed0365c-96a0-4aca-818e-892932cc6907\" class=\"colab-df-container\">\n",
              "    <div>\n",
              "<style scoped>\n",
              "    .dataframe tbody tr th:only-of-type {\n",
              "        vertical-align: middle;\n",
              "    }\n",
              "\n",
              "    .dataframe tbody tr th {\n",
              "        vertical-align: top;\n",
              "    }\n",
              "\n",
              "    .dataframe thead th {\n",
              "        text-align: right;\n",
              "    }\n",
              "</style>\n",
              "<table border=\"1\" class=\"dataframe\">\n",
              "  <thead>\n",
              "    <tr style=\"text-align: right;\">\n",
              "      <th></th>\n",
              "      <th>filename</th>\n",
              "    </tr>\n",
              "  </thead>\n",
              "  <tbody>\n",
              "    <tr>\n",
              "      <th>87</th>\n",
              "      <td>HH20231210 T3684678181 No Limit Hold'em $0.88 ...</td>\n",
              "    </tr>\n",
              "  </tbody>\n",
              "</table>\n",
              "</div>\n",
              "    <div class=\"colab-df-buttons\">\n",
              "\n",
              "  <div class=\"colab-df-container\">\n",
              "    <button class=\"colab-df-convert\" onclick=\"convertToInteractive('df-0ed0365c-96a0-4aca-818e-892932cc6907')\"\n",
              "            title=\"Convert this dataframe to an interactive table.\"\n",
              "            style=\"display:none;\">\n",
              "\n",
              "  <svg xmlns=\"http://www.w3.org/2000/svg\" height=\"24px\" viewBox=\"0 -960 960 960\">\n",
              "    <path d=\"M120-120v-720h720v720H120Zm60-500h600v-160H180v160Zm220 220h160v-160H400v160Zm0 220h160v-160H400v160ZM180-400h160v-160H180v160Zm440 0h160v-160H620v160ZM180-180h160v-160H180v160Zm440 0h160v-160H620v160Z\"/>\n",
              "  </svg>\n",
              "    </button>\n",
              "\n",
              "  <style>\n",
              "    .colab-df-container {\n",
              "      display:flex;\n",
              "      gap: 12px;\n",
              "    }\n",
              "\n",
              "    .colab-df-convert {\n",
              "      background-color: #E8F0FE;\n",
              "      border: none;\n",
              "      border-radius: 50%;\n",
              "      cursor: pointer;\n",
              "      display: none;\n",
              "      fill: #1967D2;\n",
              "      height: 32px;\n",
              "      padding: 0 0 0 0;\n",
              "      width: 32px;\n",
              "    }\n",
              "\n",
              "    .colab-df-convert:hover {\n",
              "      background-color: #E2EBFA;\n",
              "      box-shadow: 0px 1px 2px rgba(60, 64, 67, 0.3), 0px 1px 3px 1px rgba(60, 64, 67, 0.15);\n",
              "      fill: #174EA6;\n",
              "    }\n",
              "\n",
              "    .colab-df-buttons div {\n",
              "      margin-bottom: 4px;\n",
              "    }\n",
              "\n",
              "    [theme=dark] .colab-df-convert {\n",
              "      background-color: #3B4455;\n",
              "      fill: #D2E3FC;\n",
              "    }\n",
              "\n",
              "    [theme=dark] .colab-df-convert:hover {\n",
              "      background-color: #434B5C;\n",
              "      box-shadow: 0px 1px 3px 1px rgba(0, 0, 0, 0.15);\n",
              "      filter: drop-shadow(0px 1px 2px rgba(0, 0, 0, 0.3));\n",
              "      fill: #FFFFFF;\n",
              "    }\n",
              "  </style>\n",
              "\n",
              "    <script>\n",
              "      const buttonEl =\n",
              "        document.querySelector('#df-0ed0365c-96a0-4aca-818e-892932cc6907 button.colab-df-convert');\n",
              "      buttonEl.style.display =\n",
              "        google.colab.kernel.accessAllowed ? 'block' : 'none';\n",
              "\n",
              "      async function convertToInteractive(key) {\n",
              "        const element = document.querySelector('#df-0ed0365c-96a0-4aca-818e-892932cc6907');\n",
              "        const dataTable =\n",
              "          await google.colab.kernel.invokeFunction('convertToInteractive',\n",
              "                                                    [key], {});\n",
              "        if (!dataTable) return;\n",
              "\n",
              "        const docLinkHtml = 'Like what you see? Visit the ' +\n",
              "          '<a target=\"_blank\" href=https://colab.research.google.com/notebooks/data_table.ipynb>data table notebook</a>'\n",
              "          + ' to learn more about interactive tables.';\n",
              "        element.innerHTML = '';\n",
              "        dataTable['output_type'] = 'display_data';\n",
              "        await google.colab.output.renderOutput(dataTable, element);\n",
              "        const docLink = document.createElement('div');\n",
              "        docLink.innerHTML = docLinkHtml;\n",
              "        element.appendChild(docLink);\n",
              "      }\n",
              "    </script>\n",
              "  </div>\n",
              "\n",
              "\n",
              "    </div>\n",
              "  </div>\n"
            ]
          },
          "metadata": {},
          "execution_count": 179
        }
      ]
    },
    {
      "cell_type": "code",
      "source": [
        "current_file = ms_sng_files[89]\n",
        "\n",
        "print(current_file)"
      ],
      "metadata": {
        "id": "vL0CwQGQzD_X",
        "colab": {
          "base_uri": "https://localhost:8080/"
        },
        "outputId": "99ac7c0a-86b4-4273-b0ff-a109a38181df"
      },
      "execution_count": null,
      "outputs": [
        {
          "output_type": "stream",
          "name": "stdout",
          "text": [
            "HH20231216 T3687289002 No Limit Hold'em $0.88 + $0.12.txt\n"
          ]
        }
      ]
    },
    {
      "cell_type": "markdown",
      "source": [
        "# Extração básica"
      ],
      "metadata": {
        "id": "cPZc6ia5gal9"
      }
    },
    {
      "cell_type": "markdown",
      "source": [
        "### Separar .txt em blocos"
      ],
      "metadata": {
        "id": "fZt0GP_EzSpl"
      }
    },
    {
      "cell_type": "code",
      "source": [
        "# Separa as mãos em estágios (setup, pre-flop etc)\n",
        "# retorna uma lista de dicionários. key = stage, value = raw lines\n",
        "\n",
        "def break_hands_stages_v2(file):\n",
        "  complete_filepath = f\"{SOURCE_FOLDER}{file}\"\n",
        "  raw_hands_data = []\n",
        "  table_hand_counter = 0\n",
        "  hand_list = []\n",
        "  raw_hands_stages = []\n",
        "\n",
        "  # abre o arquivo e faz o tratamento básico de tirar espaços em branco etc\n",
        "  with open(complete_filepath) as raw_text_game_data:\n",
        "    table_strings = raw_text_game_data.readlines()\n",
        "    clean_table_strings = [line.strip() for line in table_strings]\n",
        "    no_empty_lines = list(filter(None, clean_table_strings))\n",
        "\n",
        "    # quebra o blocão de texto em mãos\n",
        "    # gera uma lista de listas em que cada sub-lista é uma linha de texto\n",
        "    for line in no_empty_lines:\n",
        "      if \"PokerStars\" in line:\n",
        "        if table_hand_counter != 0:\n",
        "          raw_hands_data.append(hand_list)\n",
        "          hand_list = []\n",
        "        table_hand_counter += 1\n",
        "        hand_list.clear()\n",
        "      hand_list.append(line)\n",
        "\n",
        "  raw_hands_data.append(hand_list)\n",
        "\n",
        "  # quebra o bloco de texto da mão completa em cada estágio do jogo\n",
        "  for hand in raw_hands_data:\n",
        "    raw_dict = {\n",
        "      'Metadata': [],\n",
        "      'Setup': [],\n",
        "      'Pre_flop': [],\n",
        "      'Flop': [],\n",
        "      'Turn': [],\n",
        "      'River': [],\n",
        "      'Showdown': [],\n",
        "      'Summary': []\n",
        "    }\n",
        "    for line in hand:\n",
        "      if \"PokerStars\" in line:\n",
        "        stage = 'Setup'\n",
        "      if \"*** HOLE CARDS ***\" in line:\n",
        "        stage = \"Pre_flop\"\n",
        "      if \"*** FLOP ***\" in line:\n",
        "        stage = \"Flop\"\n",
        "      if \"TURN\" in line:\n",
        "        stage = \"Turn\"\n",
        "      if \"RIVER\" in line:\n",
        "        stage = \"River\"\n",
        "      if \"SHOW DOWN\" in line:\n",
        "        stage = \"Showdown\"\n",
        "      if \"SUMMARY\" in line:\n",
        "        stage = \"Summary\"\n",
        "      raw_dict[stage].append(line)\n",
        "    raw_hands_stages.append(raw_dict)\n",
        "\n",
        "  # tira as duas primeiras linhas do Setup e joga pro Metadata. Achei mais fácil\n",
        "  for hand in raw_hands_stages:\n",
        "    hand['Metadata'].append(hand['Setup'][0])\n",
        "    hand['Metadata'].append(hand['Setup'][1])\n",
        "    hand['Setup'].pop(0)\n",
        "    hand['Setup'].pop(0)\n",
        "\n",
        "  return raw_hands_stages"
      ],
      "metadata": {
        "id": "jC81Jh2EcPiO"
      },
      "execution_count": null,
      "outputs": []
    },
    {
      "cell_type": "code",
      "source": [
        "#pprint.pprint(break_hands_stages_v2(current_file), sort_dicts=False)"
      ],
      "metadata": {
        "id": "97paWZ8yaKqv"
      },
      "execution_count": null,
      "outputs": []
    },
    {
      "cell_type": "markdown",
      "source": [
        "### Metadados partida"
      ],
      "metadata": {
        "id": "OALTnKmqzfDr"
      }
    },
    {
      "cell_type": "code",
      "source": [
        "# extrai metadados do torneio\n",
        "\n",
        "def get_match_metadata(list_split_hands):\n",
        "  raw_hands_stages = list_split_hands\n",
        "  header = raw_hands_stages[0]['Metadata'][0]\n",
        "  split_header = header.split()\n",
        "\n",
        "  match_metadata = {'id': re.search(r\"Tournament #(\\d+)\", header).group(1),\n",
        "                  'platform': 'PokerStars',\n",
        "                  'match_type': 'tournament',\n",
        "                  'buy_in': 0.50,\n",
        "                  'currency': 'USD',\n",
        "                  'poker_type': 'Texas Holdem',\n",
        "                  'bet_limit': \"No\",\n",
        "                  'start_datetime': f\"{split_header[-3]} {split_header[-2]}\",\n",
        "                  'timezone': 'ET'\n",
        "                    }\n",
        "\n",
        "  return match_metadata\n",
        "\n",
        "#pprint.pprint(match_dict)"
      ],
      "metadata": {
        "id": "UT2nQlJt0uey"
      },
      "execution_count": null,
      "outputs": []
    },
    {
      "cell_type": "markdown",
      "source": [
        "### Metadados mão"
      ],
      "metadata": {
        "id": "ZMdZg6d6zi-I"
      }
    },
    {
      "cell_type": "code",
      "source": [
        "# declara a função que extrai os metadados da mão\n",
        "\n",
        "def get_hand_metadata(hand):\n",
        "  header1 = hand['Metadata'][0]\n",
        "  header2 = hand['Metadata'][1]\n",
        "  split_header1 = header1.split()\n",
        "\n",
        "  hand_metadata = {\n",
        "    'id': re.search(r'\\d{12}', header1).group(),\n",
        "    'match_id': re.search(r\"Tournament #(\\d+)\", header1).group(1),\n",
        "    'table_id': re.search(r'\\d+\\s\\d+', header2).group(),\n",
        "    'current_lvl': re.search(r'Level\\s+(\\w+)', header1).group(1),\n",
        "    'price_sb': re.search(r'\\(\\d+/\\d+\\)', header1).group().strip('()').split(\"/\")[0],\n",
        "    'price_bb': re.search(r'\\(\\d+/\\d+\\)', header1).group().strip('()').split(\"/\")[1],\n",
        "    'start_datetime': f\"{split_header1[-3]} {split_header1[-2]}\",\n",
        "    'max_players': re.search(r'\\d+-max', header2).group().split(\"-\")[0],\n",
        "    'button_seat': re.search(r'Seat #(\\d+)', header2).group(1)\n",
        "  }\n",
        "\n",
        "  return hand_metadata\n",
        "\n",
        "#get_hand_metadata(raw_hands_stages[0])"
      ],
      "metadata": {
        "id": "YQesbFGfw8dB"
      },
      "execution_count": null,
      "outputs": []
    },
    {
      "cell_type": "markdown",
      "source": [
        "### Setup"
      ],
      "metadata": {
        "id": "N3_0eefhzpQ1"
      }
    },
    {
      "cell_type": "code",
      "source": [
        "# Refazendo o método que extrai o setup pq resolvi mudar a estrutura\n",
        "\n",
        "def new_get_setup_data(raw_setup_data):\n",
        "  new_setup_data = {\n",
        "      'seats': [],\n",
        "      'forced_bets': []\n",
        "  }\n",
        "\n",
        "  for line in raw_setup_data:\n",
        "    if \"Seat\" in line:\n",
        "      seat_dict = {\n",
        "          'number': re.search(r'Seat (\\d+):', line).group(1),\n",
        "          'player': re.search(r':\\s(.+?)\\s\\(', line).group(1),\n",
        "          'chips': re.search(r'\\((\\d+)\\s', line).group(1),\n",
        "          'starts_sitting_out': \"\"\n",
        "      }\n",
        "      if \"sitting\" in line:\n",
        "        seat_dict['starts_sitting_out'] = \"Yes\"\n",
        "      new_setup_data['seats'].append(seat_dict)\n",
        "    else:\n",
        "      forced_bet_dict = {\n",
        "          'player': re.search(r'^(.*):', line).group(1),\n",
        "          'action_description': \"\",\n",
        "          'amount': re.search(r'\\b\\d+\\b', line).group(),\n",
        "          'all_in': \"\"\n",
        "      }\n",
        "      if \"small blind\" in line:\n",
        "        forced_bet_dict['action_description'] = \"posts small_blind\"\n",
        "      elif \"big blind\" in line:\n",
        "        forced_bet_dict['action_description'] = \"posts big_blind\"\n",
        "      elif \"ante\" in line:\n",
        "        forced_bet_dict['action_description'] = \"posts ante\"\n",
        "      if \"all-in\" in line:\n",
        "        forced_bet_dict['all_in'] = \"Y\"\n",
        "      new_setup_data['forced_bets'].append(forced_bet_dict)\n",
        "\n",
        "\n",
        "  return new_setup_data\n",
        "\n",
        "#pprint.pprint(new_get_setup_data(raw_hands_stages[54]['Setup']), sort_dicts=False) # teste\n",
        "#print(raw_hands_stages[54]['Setup'])"
      ],
      "metadata": {
        "id": "sVQCUWfPK8vT"
      },
      "execution_count": null,
      "outputs": []
    },
    {
      "cell_type": "markdown",
      "source": [
        "### Ações"
      ],
      "metadata": {
        "id": "DzM0meuMzt5j"
      }
    },
    {
      "cell_type": "code",
      "source": [
        "# extrai os dados das ações dos jogadores\n",
        "\n",
        "def get_actions_data(list):\n",
        "  action_counter = 0\n",
        "  actions_list = []\n",
        "\n",
        "  for line in list:\n",
        "    action_counter += 1\n",
        "\n",
        "    action_dict = {\n",
        "        'action_number': action_counter,\n",
        "        'player': \"\",\n",
        "        'action_description': \"\",\n",
        "        'amount': \"\",\n",
        "        'new_amount': \"\",\n",
        "        'all_in': \"\"\n",
        "    }\n",
        "\n",
        "    if \"checks\" in line:\n",
        "      action_dict['player'] = re.search(r'^(.*):', line).group(1)\n",
        "      action_dict['action_description'] = 'checks'\n",
        "    elif \"folds\" in line:\n",
        "      action_dict['player'] = re.search(r'^(.*):', line).group(1)\n",
        "      action_dict['action_description'] = 'folds'\n",
        "    elif \"calls\" in line:\n",
        "      action_dict['player'] = re.search(r'^(.*):', line).group(1)\n",
        "      action_dict['action_description'] = 'calls'\n",
        "      action_dict['amount'] = re.search(r'(?<=calls\\s)\\d+', line).group()\n",
        "    elif \"bets\" in line:\n",
        "      action_dict['player'] = re.search(r'^(.*):', line).group(1)\n",
        "      action_dict['action_description'] = 'bets'\n",
        "      action_dict['amount'] = re.search(r'(?<=bets\\s)\\d+', line).group()\n",
        "    elif \"raises\" in line:\n",
        "      action_dict['player'] = re.search(r'^(.*):', line).group(1)\n",
        "      action_dict['action_description'] = 'raises'\n",
        "      action_dict['amount'] = re.search(r'\\b\\d+\\b(?=\\s+to)', line).group()\n",
        "      action_dict['new_amount'] = re.search(r'(?<=to\\s)\\d+', line).group()\n",
        "    elif \"Uncalled\" in line:\n",
        "      action_dict['player'] = re.search(r'(?<=to\\s)(.*)', line).group(1)\n",
        "      action_dict['action_description'] = \"retakes\"\n",
        "      action_dict['amount'] = re.search(r'\\((\\d+)\\)', line).group(1)\n",
        "      action_dict['all_in'] = \"\"\n",
        "    elif \"collected\" in line:\n",
        "      action_dict['player'] = re.search(r'(.*)\\scollected', line).group(1)\n",
        "      action_dict['action_description'] = \"collects\"\n",
        "      action_dict['amount'] = re.search(r'(?<=collected\\s)\\d+', line).group()\n",
        "      action_dict['all_in'] = \"\"\n",
        "    elif \"is disconnected\" in line:\n",
        "      action_dict['player'] = re.search(r'(.*)\\sis', line).group(1)\n",
        "      action_dict['action_description'] = \"disconnects\"\n",
        "    elif \"is connected\" in line:\n",
        "      action_dict['player'] = re.search(r'(.*)\\sis', line).group(1)\n",
        "      action_dict['action_description'] = \"connects\"\n",
        "    elif \"timed out\" in line:\n",
        "      action_dict['player'] = re.search(r'(.*)\\shas', line).group(1)\n",
        "      action_dict['action_description'] = \"times_out\"\n",
        "    elif \"sitting\" in line:\n",
        "      action_dict['player'] = re.search(r'(.*)\\sis', line).group(1)\n",
        "      action_dict['action_description'] = \"sits_out\"\n",
        "    elif \"returned\" in line:\n",
        "      action_dict['player'] = re.search(r'(.*)\\shas', line).group(1)\n",
        "      action_dict['action_description'] = \"returns_to_table\"\n",
        "    elif \"doesn't show\" in line:\n",
        "      action_dict['player'] = re.search(r'^(.*):', line).group(1)\n",
        "      action_dict['action_description'] = \"doesnt_show_hand\"\n",
        "    elif \"finished\" in line:\n",
        "      placement = re.search(r'tournament in (\\w+)', line).group(1)\n",
        "      action_dict['player'] = re.search(r'(.*)\\bfinished', line).group(1).strip()\n",
        "      action_dict['action_description'] = f\"finishes {placement}\"\n",
        "    elif \"shows\" in line:\n",
        "      action_dict['player'] = re.search(r'^(.*):', line).group(1)\n",
        "      sd_cards = re.search(r'\\[(.*?)\\]', line).group(1)\n",
        "      action_dict['action_description'] = f\"shows {sd_cards}\"\n",
        "\n",
        "    if \"all-in\" in line:\n",
        "      action_dict['all_in'] = \"Y\"\n",
        "\n",
        "    actions_list.append(action_dict)\n",
        "\n",
        "  return actions_list\n",
        "\n",
        "#get_actions_data(break_hands_stages()[1][\"Showdown\"]) # teste"
      ],
      "metadata": {
        "id": "68Xw9OvrkXfp"
      },
      "execution_count": null,
      "outputs": []
    },
    {
      "cell_type": "code",
      "source": [
        "#le_dict = break_hands_stages()\n",
        "#le_dict\n",
        "\n",
        "#for line in le_dict:\n",
        "#  print(line['Metadata'])\n",
        "\n",
        "#le_dict[-2]\n",
        "#line = 'UEHJU3 collected 990 from pot'\n",
        "#amount = re.search(r'(?<=collected\\s)\\d+', line).group()\n",
        "#amount"
      ],
      "metadata": {
        "id": "QDA9HPJIm9mj"
      },
      "execution_count": null,
      "outputs": []
    },
    {
      "cell_type": "markdown",
      "source": [
        "### Streets"
      ],
      "metadata": {
        "id": "wd2GcgRozxKJ"
      }
    },
    {
      "cell_type": "code",
      "source": [
        "# método que extrai os dados de cada street\n",
        "# meio feio mas fiquei com pregs de ajeitar o regex, então tá valendo\n",
        "\n",
        "def get_street_data(street_list_raw):\n",
        "  street_data = {\n",
        "      'actions': []\n",
        "  }\n",
        "  if len(street_list_raw) == 0:\n",
        "    return street_data\n",
        "  else:\n",
        "    street_header = street_list_raw[0]\n",
        "    street_data = {}\n",
        "    if \"HOLE\" in street_header:\n",
        "      street_data['hero_cards'] = re.search(r'\\[(.*?)\\]', street_list_raw[1]).group(1).split()\n",
        "      street_data['actions'] = get_actions_data(street_list_raw[2:])\n",
        "    elif \"FLOP\" in street_header:\n",
        "      street_data['street_cards'] = re.search(r'\\[(.*)\\]', street_list_raw[0]).group(1).split()\n",
        "      street_data['actions'] = get_actions_data(street_list_raw[1:])\n",
        "    elif \"TURN\" in street_header:\n",
        "      street_data['street_cards'] = re.search(r'\\[(\\w+)\\]', street_list_raw[0]).group(1)\n",
        "      street_data['actions'] = get_actions_data(street_list_raw[1:])\n",
        "    elif \"RIVER\" in street_header:\n",
        "      street_data['street_cards'] = re.search(r'\\[(\\w+)\\]', street_list_raw[0]).group(1)\n",
        "      street_data['actions'] = get_actions_data(street_list_raw[1:])\n",
        "    else:\n",
        "      return street_data\n",
        "    return street_data\n",
        "\n",
        "#pprint.pprint(get_street_data(raw_hands_stages[0]['Flop']))"
      ],
      "metadata": {
        "id": "p6FZZxUB-5AB"
      },
      "execution_count": null,
      "outputs": []
    },
    {
      "cell_type": "markdown",
      "source": [
        "### Showdown"
      ],
      "metadata": {
        "id": "ibY7ovr2z4Yi"
      }
    },
    {
      "cell_type": "code",
      "source": [
        "def new_get_showdown_data(showdown_list_raw):\n",
        "  sd_actions_list = []\n",
        "\n",
        "  if len(showdown_list_raw) > 0:\n",
        "    sd_action_counter = 0\n",
        "    for line in showdown_list_raw[1:]:\n",
        "      sd_action_counter += 1\n",
        "      sd_action_dict = {\n",
        "            'action_number': sd_action_counter,\n",
        "            'player': \"\",\n",
        "            'action_description': \"\",\n",
        "            'amount': \"\",\n",
        "            'new_amount': \"\",\n",
        "            'all_in': \"\",\n",
        "            'sd_cards': [],\n",
        "            'sd_finalhand': \"\"\n",
        "      }\n",
        "      if \"shows\" in line:\n",
        "        sd_action_dict['player'] = re.search(r'^(.*):', line).group(1)\n",
        "        sd_action_dict['action_description'] = \"shows_hand\"\n",
        "        sd_action_dict['sd_cards'] = re.search(r'\\[(.*?)\\]', line).group(1).split()\n",
        "        sd_action_dict['sd_finalhand'] = re.search(r'\\((.*?)\\)', line).group(1)\n",
        "      elif \"mucks\" in line:\n",
        "        sd_action_dict['player'] = re.search(r'^(.*):', line).group(1)\n",
        "        sd_action_dict['action_description'] = \"mucks_hand\"\n",
        "      elif \"collected\" in line:\n",
        "        if \"side\" in line:\n",
        "          pot_type = \"side\"\n",
        "        else:\n",
        "          pot_type = \"main\"\n",
        "        sd_action_dict['player'] = re.search(r'(.*)\\bcollected', line).group(1).strip()\n",
        "        sd_action_dict['action_description'] = f\"collects_pot {pot_type}\"\n",
        "        sd_action_dict['amount'] = re.search(r'collected (\\d+)', line).group(1)\n",
        "      elif \"finished\" in line:\n",
        "        sd_action_dict['player'] = re.search(r'(.*)\\bfinished', line).group(1).strip()\n",
        "        placement = re.search(r'tournament in (\\w+)', line).group(1)\n",
        "        sd_action_dict['action_description'] = f\"finishes {placement}\"\n",
        "      elif \"wins\" in line:\n",
        "        sd_action_dict['player'] = re.search(r'(.*)\\bwins', line).group(1).strip()\n",
        "        sd_action_dict['action_description'] = \"finishes 1st\"\n",
        "      elif \"is disconnected\" in line:\n",
        "        sd_action_dict['player'] = re.search(r'(.*)\\sis', line).group(1)\n",
        "        sd_action_dict['action_description'] = \"disconnects\"\n",
        "      elif \"returned\" in line:\n",
        "        sd_action_dict['player'] = re.search(r'(.*)\\shas', line).group(1)\n",
        "        sd_action_dict['action_description'] = \"returns_to_table\"\n",
        "      sd_actions_list.append(sd_action_dict)\n",
        "\n",
        "  return sd_actions_list\n",
        "\n",
        "#pprint.pprint(raw_hands_stages[3]['Showdown'])\n",
        "#pprint.pprint(new_get_showdown_data(raw_hands_stages[2]['Showdown']), sort_dicts=False)"
      ],
      "metadata": {
        "id": "MgFr55kPu193"
      },
      "execution_count": null,
      "outputs": []
    },
    {
      "cell_type": "markdown",
      "source": [
        "### Summary"
      ],
      "metadata": {
        "id": "-VlVX4Ukz69P"
      }
    },
    {
      "cell_type": "code",
      "source": [
        "def get_summary_data(summary_list):\n",
        "  summary_data = {\n",
        "      'summary_general': {},\n",
        "      'summary_seats': []\n",
        "  }\n",
        "\n",
        "  raw_summary_general_data = []\n",
        "  raw_summary_seats_data = []\n",
        "  for line in summary_list:\n",
        "    if \"Seat \" in line:\n",
        "      raw_summary_seats_data.append(line)\n",
        "    else:\n",
        "      raw_summary_general_data.append(line)\n",
        "\n",
        "  for line in raw_summary_general_data:\n",
        "    if \"Total\" in line:\n",
        "      summary_data['summary_general']['total_pot'] = re.search(r'pot (\\d+)', line).group(1)\n",
        "      summary_data['summary_general']['rake'] = re.search(r'Rake (\\d+)', line).group(1)\n",
        "    if \"Board\" in line:\n",
        "      summary_data['summary_general']['board'] = re.search(r'\\[(.*?)\\]', line).group(1).split()\n",
        "\n",
        "  for line in raw_summary_seats_data:\n",
        "    summary_seat_dict = {\n",
        "          'number': re.search(r'Seat (\\d+):', line).group(1),\n",
        "          'action_description': \"\",\n",
        "          'action_phrase': \"\"\n",
        "    }\n",
        "    if \"folded\" in line:\n",
        "      summary_seat_dict['action_description'] = \"folded\"\n",
        "      summary_seat_dict['action_phrase'] = re.search(r'(?<=folded ).*$', line).group() #re.search(r'folded (.*)', line).group(1)\n",
        "    elif \"mucked\" in line:\n",
        "      summary_seat_dict['action_description'] = \"mucked\"\n",
        "      summary_seat_dict['action_phrase'] = re.search(r'(?<=mucked ).*$', line).group()\n",
        "    elif \"showed\" in line:\n",
        "      summary_seat_dict['action_description'] = \"showed\"\n",
        "      summary_seat_dict['action_phrase'] = re.search(r'(?<=showed ).*$', line).group()\n",
        "    summary_data['summary_seats'].append(summary_seat_dict)\n",
        "\n",
        "  return summary_data\n",
        "\n",
        "\n",
        "#pprint.pprint(raw_hands_stages[0]['Summary'])\n",
        "#pprint.pprint(get_summary_data(raw_hands_stages[1]['Summary']), sort_dicts=False)"
      ],
      "metadata": {
        "id": "o10E0PcfPh-X"
      },
      "execution_count": null,
      "outputs": []
    },
    {
      "cell_type": "markdown",
      "source": [
        "### Loop extrações"
      ],
      "metadata": {
        "id": "ClcSszNL0Qeh"
      }
    },
    {
      "cell_type": "code",
      "source": [
        "# LOOP PRINCIPAL\n",
        "# esse é o loop que vai passar mão por mão executando os métodos de extração\n",
        "\n",
        "def get_all_hands_data(file):\n",
        "  raw_hands_stages = break_hands_stages_v2(file)\n",
        "  match_dict = {\n",
        "    'match_metadata': get_match_metadata(raw_hands_stages),\n",
        "    'hands': {}\n",
        "  }\n",
        "  for hand in raw_hands_stages:\n",
        "    temp_hand_metadata = get_hand_metadata(hand)\n",
        "    hand_id = f\"PS_hand_{temp_hand_metadata['id']}\"\n",
        "    match_dict['hands'][hand_id] = {}\n",
        "    match_dict['hands'][hand_id]['Metadata'] = temp_hand_metadata\n",
        "    match_dict['hands'][hand_id]['Setup'] = new_get_setup_data(hand['Setup'])\n",
        "    match_dict['hands'][hand_id]['Pre_flop'] = get_street_data(hand['Pre_flop'])\n",
        "    match_dict['hands'][hand_id]['Flop'] = get_street_data(hand['Flop'])\n",
        "    match_dict['hands'][hand_id]['Turn'] = get_street_data(hand['Turn'])\n",
        "    match_dict['hands'][hand_id]['River'] = get_street_data(hand['River'])\n",
        "    match_dict['hands'][hand_id]['Showdown'] = new_get_showdown_data(hand['Showdown'])\n",
        "    match_dict['hands'][hand_id]['Summary'] = get_summary_data(hand['Summary'])\n",
        "\n",
        "  return match_dict"
      ],
      "metadata": {
        "id": "UrsO9pLmzc6X"
      },
      "execution_count": null,
      "outputs": []
    },
    {
      "cell_type": "code",
      "source": [
        "#pprint.pprint(get_all_hands_data(current_file), sort_dicts=False)"
      ],
      "metadata": {
        "id": "BFdvX1IjBi8a"
      },
      "execution_count": null,
      "outputs": []
    },
    {
      "cell_type": "markdown",
      "source": [
        "# Transformações pro novo dicionário"
      ],
      "metadata": {
        "id": "4u6FNyXN8Etx"
      }
    },
    {
      "cell_type": "markdown",
      "source": [
        "### Metadata"
      ],
      "metadata": {
        "id": "3-KBd0kNy7Yi"
      }
    },
    {
      "cell_type": "code",
      "source": [
        "def transform_hand_metadata(hand):\n",
        "  t_hand_metadata = hand['Metadata'] # t de \"transformed\"\n",
        "  t_hand_metadata['hero_card1'] = hand['Pre_flop']['hero_cards'][0]\n",
        "  t_hand_metadata['hero_card2'] = hand['Pre_flop']['hero_cards'][1]\n",
        "  t_hand_metadata['flop_card1'] = \"\"\n",
        "  t_hand_metadata['flop_card2'] = \"\"\n",
        "  t_hand_metadata['flop_card3'] = \"\"\n",
        "  t_hand_metadata['turn_card'] = \"\"\n",
        "  t_hand_metadata['river_card'] = \"\"\n",
        "\n",
        "  if len(hand['Flop']['actions']) > 0:\n",
        "    t_hand_metadata['flop_card1'] = hand['Flop']['street_cards'][0]\n",
        "    t_hand_metadata['flop_card2'] = hand['Flop']['street_cards'][1]\n",
        "    t_hand_metadata['flop_card3'] = hand['Flop']['street_cards'][2]\n",
        "  if len(hand['Turn']['actions']) > 0:\n",
        "    t_hand_metadata['turn_card'] = hand['Turn']['street_cards']\n",
        "  if len(hand['River']['actions']) > 0:\n",
        "    t_hand_metadata['river_card'] = hand['River']['street_cards']\n",
        "\n",
        "  return t_hand_metadata\n",
        "\n",
        "#pprint.pprint(transform_hand_metadata(match_dict['hands']['PS_hand_239454817006']), sort_dicts = False)\n",
        "#pprint.pprint(match_dict['hands']['PS_hand_239454817006'], sort_dicts = False)"
      ],
      "metadata": {
        "id": "0eQoCvbT6-xG"
      },
      "execution_count": null,
      "outputs": []
    },
    {
      "cell_type": "markdown",
      "source": [
        "### Seats"
      ],
      "metadata": {
        "id": "dttDdEmay4PV"
      }
    },
    {
      "cell_type": "code",
      "source": [
        "def transform_seats_data(hand):\n",
        "  t_seats = []\n",
        "  for seat in hand['Setup']['seats']:\n",
        "    t_seat_data = {\n",
        "        'match_id': hand['Metadata']['match_id'],\n",
        "        'hand_id': hand['Metadata']['id'],\n",
        "        'seat_number': seat['number'],\n",
        "        'seat_player': seat['player'],\n",
        "        'seat_chips': seat['chips'],\n",
        "        'starts_sitting_out': seat['starts_sitting_out']\n",
        "    }\n",
        "    t_seats.append(t_seat_data)\n",
        "  return t_seats\n",
        "\n",
        "#pprint.pprint(transform_seats_data(match_dict['hands']['PS_hand_239454817006']), sort_dicts = False)\n",
        "#print(match_dict['hands'])\n",
        "#pprint.pprint(match_dict['hands']['PS_hand_239454817006'], sort_dicts = False)"
      ],
      "metadata": {
        "id": "XH3UooRuFEdP"
      },
      "execution_count": null,
      "outputs": []
    },
    {
      "cell_type": "markdown",
      "source": [
        "### Forced Bets"
      ],
      "metadata": {
        "id": "oSBIKPpWy1pc"
      }
    },
    {
      "cell_type": "code",
      "source": [
        "def transform_forced_bets_data(hand):\n",
        "  t_forced_bets = []\n",
        "\n",
        "  action_counter = 0\n",
        "  for bet in hand['Setup']['forced_bets']:\n",
        "    action_counter += 1\n",
        "    t_forced_bet_data = {\n",
        "        'match_id': hand['Metadata']['match_id'],\n",
        "        'hand_id': hand['Metadata']['id'],\n",
        "        'stage': 'forced_bets',\n",
        "        'action_number': action_counter,\n",
        "        'player': bet['player'],\n",
        "        'action_description': bet['action_description'],\n",
        "        'amount': bet['amount'],\n",
        "        'new_amount': '',\n",
        "        'all_in': bet['all_in']\n",
        "    }\n",
        "    t_forced_bets.append(t_forced_bet_data)\n",
        "  return t_forced_bets\n",
        "\n",
        "#pprint.pprint(transform_forced_bets_data(match_dict['hands']['PS_hand_239592712781']), sort_dicts = False)"
      ],
      "metadata": {
        "id": "8ErxdWiNRTkD"
      },
      "execution_count": null,
      "outputs": []
    },
    {
      "cell_type": "markdown",
      "source": [
        "### Actions"
      ],
      "metadata": {
        "id": "vP_ScnBKyz3A"
      }
    },
    {
      "cell_type": "code",
      "source": [
        "def transform_actions_data(hand, stage):\n",
        "  t_actions = []\n",
        "\n",
        "  for action in hand[stage]['actions']:\n",
        "    t_action_data = {\n",
        "        'match_id': hand['Metadata']['match_id'],\n",
        "        'hand_id': hand['Metadata']['id'],\n",
        "        'stage': stage.lower(),\n",
        "        'action_number': action['action_number'],\n",
        "        'player': action['player'],\n",
        "        'action_description': action['action_description'],\n",
        "        'amount': action['amount'],\n",
        "        'new_amount': action['new_amount'],\n",
        "        'all_in': action['all_in']\n",
        "    }\n",
        "    t_actions.append(t_action_data)\n",
        "  return t_actions\n",
        "\n",
        "#pprint.pprint(transform_actions_data(match_dict['hands']['PS_hand_239776079265'], 'Pre_flop'), sort_dicts = False)"
      ],
      "metadata": {
        "id": "aNJUxQw1VBCB"
      },
      "execution_count": null,
      "outputs": []
    },
    {
      "cell_type": "markdown",
      "source": [
        "### Showdown"
      ],
      "metadata": {
        "id": "p0iaoLHByxQl"
      }
    },
    {
      "cell_type": "code",
      "source": [
        "def transform_showdown_actions(hand):\n",
        "  t_showdown_actions = []\n",
        "  for action in hand['Showdown']:\n",
        "    t_sd_action_data = {\n",
        "        'match_id': hand['Metadata']['match_id'],\n",
        "        'hand_id': hand['Metadata']['id'],\n",
        "        'stage': \"showdown\",\n",
        "        'action_number': action['action_number'],\n",
        "        'player': action['player'],\n",
        "        'action_description': action['action_description'],\n",
        "        'amount': action['amount'],\n",
        "        'new_amount': \"\",\n",
        "        'all_in': \"\"\n",
        "    }\n",
        "    t_showdown_actions.append(t_sd_action_data)\n",
        "  return t_showdown_actions\n",
        "\n",
        "def transform_showdown_cards(hand):\n",
        "  t_showdown_cards = []\n",
        "  for showed_cards in hand['Showdown']['cards_shown']:\n",
        "    t_sd_cards_data = {\n",
        "        'match_id': hand['Metadata']['match_id'],\n",
        "        'hand_id': hand['Metadata']['id'],\n",
        "        'player': showed_cards['player'],\n",
        "        'card1': showed_cards['card1'],\n",
        "        'card2': showed_cards['card2'],\n",
        "        'hand_result': showed_cards['hand_result']\n",
        "    }\n",
        "    t_showdown_cards.append(t_sd_cards_data)\n",
        "  return t_showdown_cards\n",
        "\n",
        "#pprint.pprint(transform_showdown_actions(match_dict['hands']['PS_hand_239454500194']), sort_dicts = False)\n",
        "#pprint.pprint(match_dict['hands']['PS_hand_239454500194']['Showdown'], sort_dicts = False)"
      ],
      "metadata": {
        "id": "6QrQpnKaSTg1"
      },
      "execution_count": null,
      "outputs": []
    },
    {
      "cell_type": "markdown",
      "source": [
        "### Summary"
      ],
      "metadata": {
        "id": "ID_2uaYpygg_"
      }
    },
    {
      "cell_type": "code",
      "source": [
        "def transform_summary_seat_data(hand):\n",
        "  t_summary_seat_data = []\n",
        "  return t_summary_seat_data\n",
        "\n",
        "#pprint.pprint(transform_summary_seat_data(game_dict['hands']['PS_hand_239454500194']), sort_dicts = False)\n",
        "#pprint.pprint(game_dict['hands']['PS_hand_239454500194']['Summary'], sort_dicts = False)"
      ],
      "metadata": {
        "id": "46JM_jqExmXt"
      },
      "execution_count": null,
      "outputs": []
    },
    {
      "cell_type": "markdown",
      "source": [
        "### Loop transformações"
      ],
      "metadata": {
        "id": "WaY49tGlylwS"
      }
    },
    {
      "cell_type": "code",
      "source": [
        "def transform_all_data(file):\n",
        "  extracted_data = get_all_hands_data(file)\n",
        "\n",
        "  final_game_dict = {\n",
        "      'match_metadata': extracted_data['match_metadata'],\n",
        "      'hands': []\n",
        "  }\n",
        "\n",
        "  for current_hand in extracted_data['hands']:\n",
        "    whole_hand_name = extracted_data['hands'][current_hand]\n",
        "    #print(current_hand) ##\n",
        "    new_hand_dict = {\n",
        "        'metadata': transform_hand_metadata(whole_hand_name),\n",
        "        'seats': transform_seats_data(whole_hand_name),\n",
        "        'forced_bets': transform_forced_bets_data(whole_hand_name),\n",
        "        'preflop_actions': transform_actions_data(whole_hand_name, 'Pre_flop'),\n",
        "        'flop_actions': transform_actions_data(whole_hand_name, 'Flop'),\n",
        "        'turn_actions': transform_actions_data(whole_hand_name, 'Turn'),\n",
        "        'river_actions': transform_actions_data(whole_hand_name, 'River'),\n",
        "        'showdown_actions': transform_showdown_actions(whole_hand_name),\n",
        "        'summary': whole_hand_name['Summary']['summary_seats']\n",
        "        #'shown_cards': transform_showdown_cards(whole_hand_name)\n",
        "    }\n",
        "\n",
        "    #print(new_hand_dict) ##\n",
        "\n",
        "    new_hand_dict['metadata']['total_pot'] = whole_hand_name['Summary']['summary_general']['total_pot']\n",
        "    new_hand_dict['metadata']['rake'] = whole_hand_name['Summary']['summary_general']['rake']\n",
        "\n",
        "    final_game_dict['hands'].append(new_hand_dict)\n",
        "\n",
        "  return final_game_dict\n",
        "\n",
        "\n",
        "#pprint.pprint(match_dict['hands']['PS_hand_239454567539']['Showdown'], sort_dicts = False)"
      ],
      "metadata": {
        "id": "pU8dd3cKtVEn"
      },
      "execution_count": null,
      "outputs": []
    },
    {
      "cell_type": "code",
      "source": [
        "#pprint.pprint(transform_all_data(current_file), sort_dicts = False)"
      ],
      "metadata": {
        "id": "w8csE6nGB50s"
      },
      "execution_count": null,
      "outputs": []
    },
    {
      "cell_type": "code",
      "source": [
        "#final_game_dict = transform_all_data(current_file)"
      ],
      "metadata": {
        "id": "GqUiJZzJ3b79"
      },
      "execution_count": null,
      "outputs": []
    },
    {
      "cell_type": "code",
      "source": [
        "#final_game_dict['hands'][-2]['preflop_actions']"
      ],
      "metadata": {
        "id": "oklRWPhLSwZ0"
      },
      "execution_count": null,
      "outputs": []
    },
    {
      "cell_type": "markdown",
      "source": [
        "# Finalização"
      ],
      "metadata": {
        "id": "0dJQzzxliju6"
      }
    },
    {
      "cell_type": "markdown",
      "source": [
        "## Escrita JSON"
      ],
      "metadata": {
        "id": "KCv8NGLugtNp"
      }
    },
    {
      "cell_type": "code",
      "source": [
        "def write_json(file):\n",
        "  final_game_dict = transform_all_data(file)\n",
        "\n",
        "  platform = final_game_dict['match_metadata']['platform']\n",
        "  match_type = final_game_dict['match_metadata']['match_type']\n",
        "  match_id = final_game_dict['match_metadata']['id']\n",
        "\n",
        "  json_data = json.dumps(final_game_dict)\n",
        "  json_file_name = f\"{HOJE}_{platform}_{match_type}_{match_id}\"\n",
        "\n",
        "  with open(f\"{JSON_FOLDER_V2}{json_file_name}.json\", \"w\") as file:\n",
        "    json.dump(json_data, file)\n",
        "\n",
        "  print(f\"Arquivo salvo: {json_file_name}\")"
      ],
      "metadata": {
        "id": "H4yIj7Y5cg23"
      },
      "execution_count": null,
      "outputs": []
    },
    {
      "cell_type": "markdown",
      "source": [
        "## Rodar em todos os arquivos"
      ],
      "metadata": {
        "id": "o6KgKYZP-0IL"
      }
    },
    {
      "cell_type": "code",
      "source": [
        "for file in ms_sng_files:\n",
        "  write_json(file)"
      ],
      "metadata": {
        "colab": {
          "base_uri": "https://localhost:8080/"
        },
        "id": "9wXxYIYVfY4H",
        "outputId": "ef9ee295-11b2-438a-e2c7-d7340e637921"
      },
      "execution_count": null,
      "outputs": [
        {
          "output_type": "stream",
          "name": "stdout",
          "text": [
            "Arquivo salvo: 2024-01-12_PokerStars_tournament_3491017877\n",
            "Arquivo salvo: 2024-01-12_PokerStars_tournament_3492452250\n",
            "Arquivo salvo: 2024-01-12_PokerStars_tournament_3494321597\n",
            "Arquivo salvo: 2024-01-12_PokerStars_tournament_3495240506\n",
            "Arquivo salvo: 2024-01-12_PokerStars_tournament_3495734268\n",
            "Arquivo salvo: 2024-01-12_PokerStars_tournament_3496550016\n",
            "Arquivo salvo: 2024-01-12_PokerStars_tournament_3496569097\n",
            "Arquivo salvo: 2024-01-12_PokerStars_tournament_3496576671\n",
            "Arquivo salvo: 2024-01-12_PokerStars_tournament_3496788900\n",
            "Arquivo salvo: 2024-01-12_PokerStars_tournament_3496976846\n",
            "Arquivo salvo: 2024-01-12_PokerStars_tournament_3497280061\n",
            "Arquivo salvo: 2024-01-12_PokerStars_tournament_3497303233\n",
            "Arquivo salvo: 2024-01-12_PokerStars_tournament_3497738639\n",
            "Arquivo salvo: 2024-01-12_PokerStars_tournament_3498197391\n",
            "Arquivo salvo: 2024-01-12_PokerStars_tournament_3498220037\n",
            "Arquivo salvo: 2024-01-12_PokerStars_tournament_3498597122\n",
            "Arquivo salvo: 2024-01-12_PokerStars_tournament_3498604484\n",
            "Arquivo salvo: 2024-01-12_PokerStars_tournament_3500801969\n",
            "Arquivo salvo: 2024-01-12_PokerStars_tournament_3501153343\n",
            "Arquivo salvo: 2024-01-12_PokerStars_tournament_3501160797\n",
            "Arquivo salvo: 2024-01-12_PokerStars_tournament_3501539235\n",
            "Arquivo salvo: 2024-01-12_PokerStars_tournament_3504217006\n",
            "Arquivo salvo: 2024-01-12_PokerStars_tournament_3504502689\n",
            "Arquivo salvo: 2024-01-12_PokerStars_tournament_3505004606\n",
            "Arquivo salvo: 2024-01-12_PokerStars_tournament_3505011638\n",
            "Arquivo salvo: 2024-01-12_PokerStars_tournament_3506659494\n",
            "Arquivo salvo: 2024-01-12_PokerStars_tournament_3507478292\n",
            "Arquivo salvo: 2024-01-12_PokerStars_tournament_3507485474\n",
            "Arquivo salvo: 2024-01-12_PokerStars_tournament_3507843010\n",
            "Arquivo salvo: 2024-01-12_PokerStars_tournament_3510632307\n",
            "Arquivo salvo: 2024-01-12_PokerStars_tournament_3510653215\n",
            "Arquivo salvo: 2024-01-12_PokerStars_tournament_3510667482\n",
            "Arquivo salvo: 2024-01-12_PokerStars_tournament_3511320806\n",
            "Arquivo salvo: 2024-01-12_PokerStars_tournament_3512242986\n",
            "Arquivo salvo: 2024-01-12_PokerStars_tournament_3512658327\n",
            "Arquivo salvo: 2024-01-12_PokerStars_tournament_3515123184\n",
            "Arquivo salvo: 2024-01-12_PokerStars_tournament_3515137324\n",
            "Arquivo salvo: 2024-01-12_PokerStars_tournament_3539606803\n",
            "Arquivo salvo: 2024-01-12_PokerStars_tournament_3541265475\n",
            "Arquivo salvo: 2024-01-12_PokerStars_tournament_3541397167\n",
            "Arquivo salvo: 2024-01-12_PokerStars_tournament_3541568631\n",
            "Arquivo salvo: 2024-01-12_PokerStars_tournament_3541573956\n",
            "Arquivo salvo: 2024-01-12_PokerStars_tournament_3541790288\n",
            "Arquivo salvo: 2024-01-12_PokerStars_tournament_3542359131\n",
            "Arquivo salvo: 2024-01-12_PokerStars_tournament_3542681406\n",
            "Arquivo salvo: 2024-01-12_PokerStars_tournament_3543484018\n",
            "Arquivo salvo: 2024-01-12_PokerStars_tournament_3543488152\n",
            "Arquivo salvo: 2024-01-12_PokerStars_tournament_3544440841\n",
            "Arquivo salvo: 2024-01-12_PokerStars_tournament_3544562708\n",
            "Arquivo salvo: 2024-01-12_PokerStars_tournament_3544899377\n",
            "Arquivo salvo: 2024-01-12_PokerStars_tournament_3546233232\n",
            "Arquivo salvo: 2024-01-12_PokerStars_tournament_3548990032\n",
            "Arquivo salvo: 2024-01-12_PokerStars_tournament_3549006234\n",
            "Arquivo salvo: 2024-01-12_PokerStars_tournament_3549831203\n",
            "Arquivo salvo: 2024-01-12_PokerStars_tournament_3553047398\n",
            "Arquivo salvo: 2024-01-12_PokerStars_tournament_3554596728\n",
            "Arquivo salvo: 2024-01-12_PokerStars_tournament_3555167999\n",
            "Arquivo salvo: 2024-01-12_PokerStars_tournament_3555178802\n",
            "Arquivo salvo: 2024-01-12_PokerStars_tournament_3555646278\n",
            "Arquivo salvo: 2024-01-12_PokerStars_tournament_3555689542\n",
            "Arquivo salvo: 2024-01-12_PokerStars_tournament_3560142254\n",
            "Arquivo salvo: 2024-01-12_PokerStars_tournament_3560192374\n",
            "Arquivo salvo: 2024-01-12_PokerStars_tournament_3562750610\n",
            "Arquivo salvo: 2024-01-12_PokerStars_tournament_3567033239\n",
            "Arquivo salvo: 2024-01-12_PokerStars_tournament_3568407884\n",
            "Arquivo salvo: 2024-01-12_PokerStars_tournament_3572679625\n",
            "Arquivo salvo: 2024-01-12_PokerStars_tournament_3573669620\n",
            "Arquivo salvo: 2024-01-12_PokerStars_tournament_3599373654\n",
            "Arquivo salvo: 2024-01-12_PokerStars_tournament_3616136441\n",
            "Arquivo salvo: 2024-01-12_PokerStars_tournament_3647565665\n",
            "Arquivo salvo: 2024-01-12_PokerStars_tournament_3648669753\n",
            "Arquivo salvo: 2024-01-12_PokerStars_tournament_3659395849\n",
            "Arquivo salvo: 2024-01-12_PokerStars_tournament_3667014475\n",
            "Arquivo salvo: 2024-01-12_PokerStars_tournament_3667021562\n",
            "Arquivo salvo: 2024-01-12_PokerStars_tournament_3667709428\n",
            "Arquivo salvo: 2024-01-12_PokerStars_tournament_3667959732\n",
            "Arquivo salvo: 2024-01-12_PokerStars_tournament_3668220718\n",
            "Arquivo salvo: 2024-01-12_PokerStars_tournament_3668231561\n",
            "Arquivo salvo: 2024-01-12_PokerStars_tournament_3668924889\n",
            "Arquivo salvo: 2024-01-12_PokerStars_tournament_3674398674\n",
            "Arquivo salvo: 2024-01-12_PokerStars_tournament_3674873603\n",
            "Arquivo salvo: 2024-01-12_PokerStars_tournament_3680714185\n",
            "Arquivo salvo: 2024-01-12_PokerStars_tournament_3682964122\n",
            "Arquivo salvo: 2024-01-12_PokerStars_tournament_3683748287\n",
            "Arquivo salvo: 2024-01-12_PokerStars_tournament_3683874714\n",
            "Arquivo salvo: 2024-01-12_PokerStars_tournament_3683909596\n",
            "Arquivo salvo: 2024-01-12_PokerStars_tournament_3684125775\n",
            "Arquivo salvo: 2024-01-12_PokerStars_tournament_3684678181\n",
            "Arquivo salvo: 2024-01-12_PokerStars_tournament_3686974644\n",
            "Arquivo salvo: 2024-01-12_PokerStars_tournament_3687289002\n",
            "Arquivo salvo: 2024-01-12_PokerStars_tournament_3690053462\n"
          ]
        }
      ]
    },
    {
      "cell_type": "markdown",
      "source": [
        "# Outros"
      ],
      "metadata": {
        "id": "NPaSyE-m-4ab"
      }
    },
    {
      "cell_type": "markdown",
      "source": [
        "## Testes"
      ],
      "metadata": {
        "id": "wMB1dVCy0osj"
      }
    },
    {
      "cell_type": "markdown",
      "source": [
        "## Backup"
      ],
      "metadata": {
        "id": "cknw_IZ-bC9L"
      }
    },
    {
      "cell_type": "code",
      "source": [
        "# Extrai o arquivo de texto e faz um tratamento básico\n",
        "# Retorna uma lista de strings em que cada item é uma linha do texto\n",
        "\n",
        "#source_file = \"HH20221204 T3510653215 No Limit Hold'em $0.44 + $0.06.txt\" # um dos menores torneios que eu joguei, com só 4 mãos. é o que mais tô usando pra testes\n",
        "#source_file = \"HH20221122 T3504217006 No Limit Hold'em $0.44 + $0.06.txt\" # um dos MAIORES torneios que eu tenho. bom pra outros testes\n",
        "\n",
        "\n",
        "def_clean_txt_file = '''\n",
        "\n",
        "def clean_txt_file(file):\n",
        "  complete_filepath = f\"{SOURCE_FOLDER}{file}\"\n",
        "  with open(complete_filepath) as raw_text_game_data:\n",
        "    table_strings = raw_text_game_data.readlines()\n",
        "    clean_table_strings = [line.strip() for line in table_strings]\n",
        "    list_no_empty_lines = list(filter(None, clean_table_strings))\n",
        "    return list_no_empty_lines\n",
        "\n",
        "'''"
      ],
      "metadata": {
        "id": "0oP7heTobFEE"
      },
      "execution_count": null,
      "outputs": []
    },
    {
      "cell_type": "code",
      "source": [
        "# Separa o blocão de texto anterior em mãos, criando uma lista pra cada mão\n",
        "# Retorna uma lista de listas com as linhas do texto\n",
        "\n",
        "def_get_raw_hands = '''\n",
        "\n",
        "def get_raw_hands():\n",
        "  no_empty_lines = clean_txt_file(current_file)\n",
        "  raw_hands_data = []\n",
        "\n",
        "  table_hand_counter = 0\n",
        "  hand_list = []\n",
        "  for line in no_empty_lines:\n",
        "    if \"PokerStars\" in line:\n",
        "      if table_hand_counter != 0:\n",
        "        raw_hands_data.append(hand_list)\n",
        "        hand_list = []\n",
        "      table_hand_counter += 1\n",
        "      hand_list.clear() # redundante? n lembro e pregs de debugar\n",
        "    hand_list.append(line)\n",
        "  raw_hands_data.append(hand_list)\n",
        "  return raw_hands_data\n",
        "\n",
        "#get_raw_hands()\n",
        "\n",
        "'''"
      ],
      "metadata": {
        "id": "aeyLnsXFbKJr"
      },
      "execution_count": null,
      "outputs": []
    },
    {
      "cell_type": "code",
      "source": [
        "# Separa as mãos em estágios (setup, pre-flop etc)\n",
        "# retorna uma lista de dicionários. key = stage, value = raw lines\n",
        "\n",
        "def_break_hands_stages = '''\n",
        "\n",
        "def break_hands_stages():\n",
        "  raw_hands_data = get_raw_hands()\n",
        "  raw_hands_stages = []\n",
        "\n",
        "  for hand in raw_hands_data:\n",
        "    raw_dict = {\n",
        "      'Metadata': [],\n",
        "      'Setup': [],\n",
        "      'Pre_flop': [],\n",
        "      'Flop': [],\n",
        "      'Turn': [],\n",
        "      'River': [],\n",
        "      'Showdown': [],\n",
        "      'Summary': []\n",
        "    }\n",
        "    for line in hand:\n",
        "      if \"PokerStars\" in line:\n",
        "        stage = 'Setup'\n",
        "      if \"*** HOLE CARDS ***\" in line:\n",
        "        stage = \"Pre_flop\"\n",
        "      if \"*** FLOP ***\" in line:\n",
        "        stage = \"Flop\"\n",
        "      if \"TURN\" in line:\n",
        "        stage = \"Turn\"\n",
        "      if \"RIVER\" in line:\n",
        "        stage = \"River\"\n",
        "      if \"SHOW DOWN\" in line:\n",
        "        stage = \"Showdown\"\n",
        "      if \"SUMMARY\" in line:\n",
        "        stage = \"Summary\"\n",
        "      raw_dict[stage].append(line)\n",
        "    raw_hands_stages.append(raw_dict)\n",
        "\n",
        "  # tira as duas primeiras linhas do Setup e joga pro Metadata. Achei mais fácil\n",
        "  for hand in raw_hands_stages:\n",
        "    hand['Metadata'].append(hand['Setup'][0])\n",
        "    hand['Metadata'].append(hand['Setup'][1])\n",
        "    hand['Setup'].pop(0)\n",
        "    hand['Setup'].pop(0)\n",
        "\n",
        "  return raw_hands_stages\n",
        "\n",
        "#pprint.pprint(break_hands_stages(), sort_dicts=False)\n",
        "\n",
        "'''"
      ],
      "metadata": {
        "id": "ENcPCigxc4RW"
      },
      "execution_count": null,
      "outputs": []
    }
  ]
}