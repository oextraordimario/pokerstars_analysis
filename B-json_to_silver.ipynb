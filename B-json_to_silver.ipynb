{
  "nbformat": 4,
  "nbformat_minor": 0,
  "metadata": {
    "colab": {
      "provenance": []
    },
    "kernelspec": {
      "name": "python3",
      "display_name": "Python 3"
    },
    "language_info": {
      "name": "python"
    }
  },
  "cells": [
    {
      "cell_type": "code",
      "source": [
        "## Imports\n",
        "\n",
        "import pandas as pd\n",
        "import json\n",
        "import pprint\n",
        "import os"
      ],
      "metadata": {
        "id": "2sW6FzlGjnJS"
      },
      "execution_count": null,
      "outputs": []
    },
    {
      "cell_type": "code",
      "execution_count": null,
      "metadata": {
        "id": "hDUshRTBjRNh"
      },
      "outputs": [],
      "source": [
        "JSON_FOLDER = r\"/content/drive/MyDrive/Projetos/poker_app/json_files/\"\n",
        "\n",
        "sample_json_file = r\"PokerStars_tournament_3491017877.json\"\n",
        "json_files_list = os.listdir(JSON_FOLDER)\n",
        "\n",
        "#print(json_files_list)"
      ]
    },
    {
      "cell_type": "code",
      "source": [
        "testezinho = '''\n",
        "with open(f\"{JSON_FOLDER}{json_files_list[0]}\") as test_json_file:\n",
        "  test_new_dict = json.loads(json.load(test_json_file))\n",
        "  pprint.pprint(test_new_dict, sort_dicts = False)\n",
        "'''"
      ],
      "metadata": {
        "id": "8KzRV97iVLUK"
      },
      "execution_count": null,
      "outputs": []
    },
    {
      "cell_type": "code",
      "source": [
        "game_metadata_list = []\n",
        "hand_metadata_list = []\n",
        "seats_list = []\n",
        "actions_list = []\n",
        "for f in json_files_list:\n",
        "  with open(f\"{JSON_FOLDER}{f}\") as json_file:\n",
        "    new_dict = json.loads(json.load(json_file))\n",
        "    game_metadata_list.append(new_dict['match_metadata'])\n",
        "    for hand in new_dict['hands']:\n",
        "      hand_metadata_list.append(hand['metadata'])\n",
        "      for seat in hand['seats']:\n",
        "        seats_list.append(seat)\n",
        "      for action in hand['forced_bets']:\n",
        "        actions_list.append(action)\n",
        "      for action in hand['preflop_actions']:\n",
        "        actions_list.append(action)\n",
        "      for action in hand['flop_actions']:\n",
        "        actions_list.append(action)\n",
        "      for action in hand['turn_actions']:\n",
        "        actions_list.append(action)\n",
        "      for action in hand['river_actions']:\n",
        "        actions_list.append(action)\n",
        "      for action in hand['showdown_actions']:\n",
        "        actions_list.append(action)\n",
        "\n",
        "\n",
        "#pprint.pprint(metadata_list, sort_dicts=False)"
      ],
      "metadata": {
        "id": "wbldKjFAMpE0"
      },
      "execution_count": null,
      "outputs": []
    },
    {
      "cell_type": "code",
      "source": [
        "df_silver_games = pd.DataFrame.from_records(game_metadata_list)\n",
        "df_silver_hands = pd.DataFrame.from_records(hand_metadata_list)\n",
        "df_silver_seats = pd.DataFrame.from_records(seats_list)\n",
        "df_silver_actions = pd.DataFrame.from_records(actions_list)"
      ],
      "metadata": {
        "id": "75ovdUEEd3nk"
      },
      "execution_count": null,
      "outputs": []
    },
    {
      "cell_type": "code",
      "source": [
        "df_silver_games.to_csv(\"/content/drive/MyDrive/Projetos/poker_app/silver_csv_files/silver_dim_matches.csv\", sep=\";\", index=False)\n",
        "df_silver_hands.to_csv(\"/content/drive/MyDrive/Projetos/poker_app/silver_csv_files/silver_dim_hands.csv\", sep=\";\", index=False)\n",
        "df_silver_seats.to_csv(\"/content/drive/MyDrive/Projetos/poker_app/silver_csv_files/silver_dim_seats.csv\", sep=\";\", index=False)\n",
        "df_silver_actions.to_csv(\"/content/drive/MyDrive/Projetos/poker_app/silver_csv_files/silver_fact_actions.csv\", sep=\";\", index=False)"
      ],
      "metadata": {
        "id": "_85HRjZHFhIr"
      },
      "execution_count": null,
      "outputs": []
    }
  ]
}